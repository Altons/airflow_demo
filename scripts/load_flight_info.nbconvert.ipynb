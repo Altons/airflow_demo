{
 "cells": [
  {
   "cell_type": "code",
   "execution_count": 1,
   "metadata": {},
   "outputs": [],
   "source": [
    "import pandas as pd\n",
    "import sqlite3 as db"
   ]
  },
  {
   "cell_type": "code",
   "execution_count": 2,
   "metadata": {},
   "outputs": [],
   "source": [
    "src = '/Users/anegron/projects/airflow_demo/demo.sqlite'\n",
    "conn = db.connect(src)"
   ]
  },
  {
   "cell_type": "code",
   "execution_count": 3,
   "metadata": {},
   "outputs": [],
   "source": [
    "raw_airlines = '/Users/anegron/projects/airflow_demo/data/airlines.dat'\n",
    "raw_airports = '/Users/anegron/projects/airflow_demo/data/airports.dat'\n",
    "raw_planes   = '/Users/anegron/projects/airflow_demo/data/planes.dat'\n",
    "raw_routes   = '/Users/anegron/projects/airflow_demo/data/routes.dat'"
   ]
  },
  {
   "cell_type": "code",
   "execution_count": 4,
   "metadata": {},
   "outputs": [],
   "source": [
    "df_lines  = pd.read_csv(raw_airlines, names=['id', 'name', 'alias', 'iata', 'icao', 'callsign', 'country', 'active'], index_col=False)"
   ]
  },
  {
   "cell_type": "code",
   "execution_count": 5,
   "metadata": {},
   "outputs": [],
   "source": [
    "df_ports  = pd.read_csv(raw_airports, names=['id', 'name', 'city', 'country', 'iata','icao','lat','lon','altitude','timezone','dst','tz_db_time','zone','type','source'], index_col=False)"
   ]
  },
  {
   "cell_type": "code",
   "execution_count": 6,
   "metadata": {},
   "outputs": [],
   "source": [
    "df_planes = pd.read_csv(raw_planes, names=['name','iata','icao'], index_col=False)"
   ]
  },
  {
   "cell_type": "code",
   "execution_count": 7,
   "metadata": {},
   "outputs": [],
   "source": [
    "df_routes = pd.read_csv(raw_routes, names=['airline','airline_of_id','source','source_id','dest','dest_id','code_share','stops','equipment'], index_col=False)"
   ]
  },
  {
   "cell_type": "code",
   "execution_count": 8,
   "metadata": {},
   "outputs": [
    {
     "name": "stdout",
     "output_type": "stream",
     "text": [
      "data loaded correctly\n"
     ]
    }
   ],
   "source": [
    "#copy to DB\n",
    "df_lines.to_sql('airlines', conn, if_exists='replace', index=False)\n",
    "df_ports.to_sql('airports', conn, if_exists='replace',index=False)\n",
    "df_planes.to_sql('airplanes', conn, if_exists='replace',index=False)\n",
    "df_routes.to_sql('routes', conn, if_exists='replace',index=False)\n",
    "conn.close()\n",
    "print(\"data loaded correctly\")"
   ]
  }
 ],
 "metadata": {
  "kernelspec": {
   "display_name": "Python 3",
   "language": "python",
   "name": "python3"
  },
  "language_info": {
   "codemirror_mode": {
    "name": "ipython",
    "version": 3
   },
   "file_extension": ".py",
   "mimetype": "text/x-python",
   "name": "python",
   "nbconvert_exporter": "python",
   "pygments_lexer": "ipython3",
   "version": "3.6.6"
  }
 },
 "nbformat": 4,
 "nbformat_minor": 2
}
