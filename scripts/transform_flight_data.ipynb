{
 "cells": [
  {
   "cell_type": "code",
   "execution_count": 1,
   "metadata": {},
   "outputs": [],
   "source": [
    "import pandas as pd\n",
    "import numpy as np\n",
    "import sqlite3 as db\n",
    "import matplotlib.pyplot as plt"
   ]
  },
  {
   "cell_type": "code",
   "execution_count": 2,
   "metadata": {},
   "outputs": [],
   "source": [
    "src = '/Users/anegron/projects/airflow_demo/demo.sqlite'\n",
    "conn = db.connect(src)"
   ]
  },
  {
   "cell_type": "code",
   "execution_count": 3,
   "metadata": {},
   "outputs": [],
   "source": [
    "df_lines  = pd.read_sql_query(\"select * from airlines;\", conn)\n",
    "df_lines = df_lines.replace('\\\\N', np.nan)"
   ]
  },
  {
   "cell_type": "code",
   "execution_count": 4,
   "metadata": {},
   "outputs": [],
   "source": [
    "df_ports  = pd.read_sql_query(\"select * from airports;\", conn)\n",
    "df_ports = df_ports.replace('\\\\N', np.nan)"
   ]
  },
  {
   "cell_type": "code",
   "execution_count": 5,
   "metadata": {},
   "outputs": [],
   "source": [
    "df_planes = pd.read_sql_query(\"select * from airplanes;\", conn)\n",
    "df_planes = df_planes.replace('\\\\N', np.nan)"
   ]
  },
  {
   "cell_type": "code",
   "execution_count": 6,
   "metadata": {},
   "outputs": [],
   "source": [
    "df_routes = pd.read_sql_query(\"select * from routes;\", conn)\n",
    "df_routes = df_routes.replace('\\\\N', np.nan)"
   ]
  },
  {
   "cell_type": "code",
   "execution_count": 7,
   "metadata": {},
   "outputs": [],
   "source": [
    "# Active airlines\n",
    "airlines = df_lines.loc[df_lines['active'] == 'Y', :].drop(columns='active').dropna(subset=['name'])\n",
    "# Direct flights\n",
    "routes = df_routes[df_routes['stops'] == 0].dropna(how='any').drop(columns='stops')\n",
    "routes['source_id'] = routes.source_id.astype(int)\n",
    "routes['dest_id'] = routes.dest_id.astype(int)\n",
    "routes['airline_of_id'] = routes.airline_of_id.astype(int)\n",
    "# airports\n",
    "airports = df_ports "
   ]
  },
  {
   "cell_type": "code",
   "execution_count": 8,
   "metadata": {},
   "outputs": [],
   "source": [
    "df_src = (pd.merge(routes, airports, left_on='source_id', right_on='id', how='inner'))\n",
    "df_src.columns = df_src.columns.map(lambda x: str(x) + '_s')\n",
    "\n",
    "df_dst = df_src.merge(airports, left_on='dest_id_s', right_on='id', how='inner')\n",
    "airlines.columns = airlines.columns.map(lambda x: str(x) + '_a')\n",
    "dst_air = df_dst.merge(airlines, left_on='airline_of_id_s', right_on='id_a', how='inner')"
   ]
  },
  {
   "cell_type": "code",
   "execution_count": 18,
   "metadata": {},
   "outputs": [
    {
     "data": {
      "image/png": "[encoded data removed]",
      "text/plain": [
       "<Figure size 432x288 with 1 Axes>"
      ]
     },
     "metadata": {
      "needs_background": "light"
     },
     "output_type": "display_data"
    }
   ],
   "source": [
    "\n",
    "cond = dst_air[\"country\"].isin([\"France\",'Spain','Italy','Bulgaria','Portugal','Germany'])\n",
    "dst_air.where(cond).groupby('country')['city'].nunique().plot(kind='bar')\n",
    "plt.savefig('/Users/anegron/projects/airflow_demo/airports_by_country.png',bbox_inches='tight')\n",
    "plt.show()\n"
   ]
  },
  {
   "cell_type": "code",
   "execution_count": 10,
   "metadata": {},
   "outputs": [
    {
     "data": {
      "text/plain": [
       "<Figure size 432x288 with 0 Axes>"
      ]
     },
     "metadata": {},
     "output_type": "display_data"
    }
   ],
   "source": [
    "\n"
   ]
  },
  {
   "cell_type": "code",
   "execution_count": 19,
   "metadata": {},
   "outputs": [
    {
     "data": {
      "image/png": "[encoded data removed]",
      "text/plain": [
       "<Figure size 432x288 with 1 Axes>"
      ]
     },
     "metadata": {
      "needs_background": "light"
     },
     "output_type": "display_data"
    }
   ],
   "source": [
    "dst_air.where(cond).groupby('country')['airline_s'].nunique().plot(kind='bar')\n",
    "plt.savefig('/Users/anegron/projects/airflow_demo/airlines_by_country.png',bbox_inches='tight')\n",
    "plt.show()\n"
   ]
  },
  {
   "cell_type": "code",
   "execution_count": 12,
   "metadata": {},
   "outputs": [
    {
     "data": {
      "text/plain": [
       "<Figure size 432x288 with 0 Axes>"
      ]
     },
     "metadata": {},
     "output_type": "display_data"
    }
   ],
   "source": []
  }
 ],
 "metadata": {
  "kernelspec": {
   "display_name": "Python 3",
   "language": "python",
   "name": "python3"
  },
  "language_info": {
   "codemirror_mode": {
    "name": "ipython",
    "version": 3
   },
   "file_extension": ".py",
   "mimetype": "text/x-python",
   "name": "python",
   "nbconvert_exporter": "python",
   "pygments_lexer": "ipython3",
   "version": "3.6.6"
  }
 },
 "nbformat": 4,
 "nbformat_minor": 2
}
